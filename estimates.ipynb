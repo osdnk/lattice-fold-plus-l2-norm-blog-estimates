{
 "cells": [
  {
   "cell_type": "code",
   "execution_count": 34,
   "id": "9a5729c6-e3de-40ce-ae4e-ae3008c84ae9",
   "metadata": {},
   "outputs": [
    {
     "name": "stdout",
     "output_type": "stream",
     "text": [
      "costs:  175.1572265625 KB\n"
     ]
    }
   ],
   "source": [
    "import sys\n",
    "from os.path import dirname\n",
    "sys.path.append(\"./lattice-estimator\")\n",
    "\n",
    "from estimator import *\n",
    "\n",
    "Logging.set_level(Logging.LEVEL0)\n",
    "\n",
    "\n",
    "a = 12 # rank\n",
    "secpar = 2^7 \n",
    "m = 2^20 # wit dim\n",
    "B = 2^25 # norm \n",
    "q = 2^63 \n",
    "N = 128 # degree\n",
    "gamma = 2^7 # challenge set use biased bin challenges, also expansion factor or ring\n",
    "L = 8 # instances\n",
    "ring_split = 2 # assume ring splits into quadratic extensions, each NTT slor has enough entropy https://eprint.iacr.org/2025/1080.pdf\n",
    "\n",
    "Zq = log(q,2)\n",
    "Rq = log(q,2) * N\n",
    "\n",
    "# 1. range check\n",
    "# degree-2 sumcheck\n",
    "claims = Rq * L\n",
    "sumcheck = Zq * log(m,2) * 2 \n",
    "reduced_rhs = 2 * Rq * L \n",
    "\n",
    "step_1 = claims + sumcheck + reduced_rhs\n",
    "\n",
    "# 2. projection\n",
    "step_2 = Rq * (L + 1)\n",
    "\n",
    "# 3. homogenization (assume t = 4 for R1CS)\n",
    "\n",
    "# degree-2 sumcheck\n",
    "sumcheck = Zq * log(m,2) * 2 * ring_split\n",
    "new_rhs = 4 * (L + 1) * Rq\n",
    "step_3 = new_rhs + sumcheck\n",
    "\n",
    "# 4. decomp \n",
    "\n",
    "step_4 = Rq * a * (L + 1) # (into 2 factors is enough)\n",
    "\n",
    "\n",
    "print(\"costs: \", float(step_1 + step_2 + step_3 + step_4) / 1024 / 8 , \"KB\")"
   ]
  },
  {
   "cell_type": "code",
   "execution_count": 35,
   "id": "4d503651-f08b-4b49-a8aa-33e6b72e369d",
   "metadata": {},
   "outputs": [],
   "source": [
    "# norm does not grow check\n",
    "\n",
    "norm_init = B\n",
    "projected_norm = B * sqrt(337)\n",
    "folded_norm = B * L \n",
    "\n",
    "decomp_base = sqrt(folded_norm) \n",
    "def decomp_norm(b): # KLNO24\n",
    "    return sqrt(m) * sqrt(b) # translation between inf and 2 norms\n",
    "\n",
    "decomposed_norm = max(decomp_norm(projected_norm), decomp_norm(folded_norm))\n",
    "\n",
    "assert norm_init > decomposed_norm"
   ]
  },
  {
   "cell_type": "code",
   "execution_count": 36,
   "id": "4917cd29-7b10-448a-bbf5-e0f8df331ee2",
   "metadata": {},
   "outputs": [
    {
     "name": "stdout",
     "output_type": "stream",
     "text": [
      "lattice  :: rop: ≈2^135.3, red: ≈2^135.3, δ: 1.004234, β: 366, d: 3982, tag: euclidean\n"
     ]
    }
   ],
   "source": [
    "# extraction check\n",
    "\n",
    "composed_norm = decomposed_norm*decomp_base + decomposed_norm\n",
    "\n",
    "extracted_norm_numerator = 2 * composed_norm \n",
    "extrancted_slack = 2 * gamma\n",
    "\n",
    "sis_break = 2 * extracted_norm_numerator * extrancted_slack # the worst moment of the norm\n",
    "\n",
    "params = SIS.Parameters(n=N * a, m=m * N, q=q, length_bound=sis_break, norm=2)\n",
    "costs = SIS.estimate(params) \n",
    "\n"
   ]
  }
 ],
 "metadata": {
  "kernelspec": {
   "display_name": "SageMath 10.6",
   "language": "sage",
   "name": "sagemath-10.6"
  },
  "language_info": {
   "codemirror_mode": {
    "name": "ipython",
    "version": 3
   },
   "file_extension": ".py",
   "mimetype": "text/x-python",
   "name": "python",
   "nbconvert_exporter": "python",
   "pygments_lexer": "ipython3",
   "version": "3.12.5"
  }
 },
 "nbformat": 4,
 "nbformat_minor": 5
}
